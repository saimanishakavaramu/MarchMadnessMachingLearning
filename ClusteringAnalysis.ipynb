{
 "cells": [
  {
   "cell_type": "code",
   "execution_count": 4,
   "metadata": {},
   "outputs": [],
   "source": [
    "import numpy as np\n",
    "import pandas as pd\n",
    "import matplotlib.pyplot as plt\n",
    "from sklearn.cluster import MeanShift, KMeans"
   ]
  },
  {
   "cell_type": "code",
   "execution_count": 14,
   "metadata": {},
   "outputs": [],
   "source": [
    "#Combine all years of data into one dataFrame\n",
    "df_2023 = pd.read_csv(\"GatherDataFiles/df_2023.csv\")\n",
    "df_2022 = pd.read_csv(\"GatherDataFiles/df_2022.csv\")\n",
    "df_2021 = pd.read_csv(\"GatherDataFiles/df_2021.csv\")\n",
    "df_2019 = pd.read_csv(\"GatherDataFiles/df_2019.csv\")\n",
    "df_2018 = pd.read_csv(\"GatherDataFiles/df_2018.csv\")\n",
    "df_2017 = pd.read_csv(\"GatherDataFiles/df_2017.csv\")\n",
    "df_2016 = pd.read_csv(\"GatherDataFiles/df_2016.csv\")\n",
    "df_2015 = pd.read_csv(\"GatherDataFiles/df_2015.csv\")\n",
    "df_2014 = pd.read_csv(\"GatherDataFiles/df_2014.csv\")\n",
    "\n",
    "df_allYears = pd.concat([df_2023, df_2022, df_2021, df_2019, df_2018, df_2017, df_2016, df_2015, df_2014])\n",
    "df_allYears = df_allYears.drop(\"Unnamed: 0\", axis=1)\n",
    "#df_allYears"
   ]
  },
  {
   "cell_type": "code",
   "execution_count": null,
   "metadata": {},
   "outputs": [],
   "source": []
  },
  {
   "cell_type": "code",
   "execution_count": null,
   "metadata": {},
   "outputs": [],
   "source": []
  },
  {
   "cell_type": "code",
   "execution_count": null,
   "metadata": {},
   "outputs": [],
   "source": []
  }
 ],
 "metadata": {
  "kernelspec": {
   "display_name": "Python 3",
   "language": "python",
   "name": "python3"
  },
  "language_info": {
   "codemirror_mode": {
    "name": "ipython",
    "version": 3
   },
   "file_extension": ".py",
   "mimetype": "text/x-python",
   "name": "python",
   "nbconvert_exporter": "python",
   "pygments_lexer": "ipython3",
   "version": "3.11.0"
  },
  "orig_nbformat": 4
 },
 "nbformat": 4,
 "nbformat_minor": 2
}
