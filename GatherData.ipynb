{
 "cells": [
  {
   "cell_type": "code",
   "execution_count": 5,
   "metadata": {},
   "outputs": [],
   "source": [
    "import requests\n",
    "from bs4 import BeautifulSoup as bs\n",
    "import csv\n",
    "import pandas as pd"
   ]
  },
  {
   "cell_type": "code",
   "execution_count": 3,
   "metadata": {},
   "outputs": [],
   "source": [
    "#Base URL for all data\n",
    "base_url = \"https://www.sports-reference.com/cbb/\"\n",
    "#Data from all years\n",
    "years = [\"2014\", \"2015\", \"2016\", \"2017\", \"2018\", \"2019\", \"2020\", \"2021\", \"2022\", \"2023\"]\n",
    "#Create add_on based on the year\n",
    "add_on = \"seasons/men/\"+years[9]+\"-advanced-school-stats.html\"\n",
    "\n",
    "#Example data extraction with year 2023\n",
    "response = requests.get(base_url + add_on)"
   ]
  },
  {
   "attachments": {},
   "cell_type": "markdown",
   "metadata": {},
   "source": [
    "Explanation of Variables:\n",
    "    - Success of Team in March Maddness is evaluated by the amount of wins:\n",
    "        0 - first round\n",
    "        1 - second round\n",
    "        2 - sweet sixteen\n",
    "        3 - elite eight\n",
    "        4 - final four\n",
    "        5 - final\n",
    "        6 - championship\n",
    "    - Simple Rating System: \n",
    "        A rating that takes into account average point differential and strength of schedule. The rating is denominated in points above/below average, where zero is average. Non-Division I games are excluded from the ratings\n",
    "    - Strength of Schedule:\n",
    "        A rating of strength of schedule. The rating is denominated in points above/below average, where zero is average. Non-Division I games are excluded from the ratings\n",
    "    - Pace Factor:\n",
    "        An estimate of school possesion per 40 mins\n",
    "    - Offensive Rating:\n",
    "        An estimate of points scored (for teams) or points produced (for players) per 100 possessions\n",
    "    - Free Throw Attempt Rate:\n",
    "        Number of FT Attempts Per FG Attempt\n",
    "    - Three-Point Attempt Rate:\n",
    "        Percentage of FG Attempts from Three-Point Range\n",
    "    - True Shooting Percentage:\n",
    "        A measure of shooting efficiency that takes into account 2-point field goals, 3-point field goals, and free throws\n",
    "    - Total Rebound Percentage:\n",
    "        An estimate of the percentage of available rebounds a player grabbed while they were on the floor\n",
    "    - Assist Percentage:\n",
    "        An estimate of the percentage of teammate field goals a player assisted while they were on the floor\n",
    "    - Steal Percentage:\n",
    "        An estimate of the percentage of opponent possessions that end with a steal by the player while they were on the floor\n",
    "    - Block Percentage:\n",
    "        An estimate of the percentage of opponent two-point field goal attempts blocked by the player while they were on the floor\n",
    "    - Effective Field Goal Percentage:\n",
    "        This statistic adjusts for the fact that a 3-point field goal is worth one more point than a 2-point field goal\n",
    "    - Turnover Percentage:\n",
    "        An estimate of turnovers per 100 plays\n",
    "    - Offensive Rebound Percentage:\n",
    "        An estimate of the percentage of available offensive rebounds a player grabbed while they were on the floor\n"
   ]
  },
  {
   "cell_type": "code",
   "execution_count": 10,
   "metadata": {},
   "outputs": [],
   "source": [
    "#Gathering Data from the 2023 CSV file\n",
    "team_name_2023 = []\n",
    "tournament_success_2023 = []\n",
    "\n",
    "with open('2023_TournamentCSV.csv', 'r') as csv_file_2023:\n",
    "    csv_reader = csv.reader(csv_file_2023)\n",
    "    for row in csv_reader:\n",
    "        team_name_2023.append(row[0])\n",
    "        tournament_success_2023.append(int(row[1]))\n",
    "\n",
    "simple_rating_system_2023 = []\n",
    "strength_of_schedule_2023 = []\n",
    "pace_factor_2023 = []\n",
    "offensive_rating_2023 = []\n",
    "free_throw_attempt_rate_2023 = []\n",
    "three_point_attempt_rate_2023 = []\n",
    "true_shooting_percentage_2023 = []\n",
    "total_rebound_percentage_2023 = []\n",
    "assist_percentage_2023 = []\n",
    "steal_percentage_2023 = []\n",
    "block_percentage_2023 = []\n",
    "effective_field_goal_percentage_2023 = []\n",
    "turnover_percentage_2023 = []\n",
    "offensive_rebound_percentage_2023 = []\n",
    "\n",
    "\n",
    "\n"
   ]
  },
  {
   "cell_type": "code",
   "execution_count": null,
   "metadata": {},
   "outputs": [],
   "source": [
    "#Webscraping using BeautifulSoup Object\n",
    "soup_2023 = bs(response.content, 'html.parser')\n",
    "\n"
   ]
  },
  {
   "cell_type": "code",
   "execution_count": 13,
   "metadata": {},
   "outputs": [],
   "source": [
    "#Pandas Dataframe for 2023\n",
    "data_2023 = {\n",
    "    \"team_name\" : team_name,\n",
    "    \"tournament_success\" : tournament_success\n",
    "}\n",
    "\n",
    "df_2023 = pd.DataFrame(data=data_2023)\n"
   ]
  },
  {
   "cell_type": "code",
   "execution_count": null,
   "metadata": {},
   "outputs": [],
   "source": [
    "\n",
    "\n"
   ]
  }
 ],
 "metadata": {
  "kernelspec": {
   "display_name": "Python 3",
   "language": "python",
   "name": "python3"
  },
  "language_info": {
   "codemirror_mode": {
    "name": "ipython",
    "version": 3
   },
   "file_extension": ".py",
   "mimetype": "text/x-python",
   "name": "python",
   "nbconvert_exporter": "python",
   "pygments_lexer": "ipython3",
   "version": "3.11.0"
  },
  "orig_nbformat": 4
 },
 "nbformat": 4,
 "nbformat_minor": 2
}
