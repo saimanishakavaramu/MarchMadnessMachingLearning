{
 "cells": [
  {
   "cell_type": "code",
   "execution_count": 1,
   "metadata": {},
   "outputs": [],
   "source": [
    "import requests\n",
    "from bs4 import BeautifulSoup as bs\n",
    "import csv\n",
    "import pandas as pd"
   ]
  },
  {
   "cell_type": "code",
   "execution_count": 2,
   "metadata": {},
   "outputs": [],
   "source": [
    "base_url = \"https://www.sports-reference.com/cbb/\"\n",
    "add_on = \"seasons/men/\"+\"2019\"+\"-advanced-school-stats.html\"\n",
    "response = requests.get(base_url + add_on)"
   ]
  },
  {
   "cell_type": "code",
   "execution_count": 3,
   "metadata": {},
   "outputs": [],
   "source": [
    "team_name = []\n",
    "tournament_success = []\n",
    "\n",
    "with open('Tournament_Results/2019_Tournament.csv', 'r') as csv_file:\n",
    "    csv_reader = csv.reader(csv_file)\n",
    "    for row in csv_reader:\n",
    "        team_name.append(row[0])\n",
    "        tournament_success.append(int(row[1]))\n",
    "\n",
    "simple_rating_system = []\n",
    "strength_of_schedule = []\n",
    "pace_factor = []\n",
    "offensive_rating = []\n",
    "free_throw_attempt_rate = []\n",
    "three_point_attempt_rate = []\n",
    "true_shooting_percentage = []\n",
    "total_rebound_percentage = []\n",
    "assist_percentage = []\n",
    "steal_percentage = []\n",
    "block_percentage = []\n",
    "effective_field_goal_percentage = []\n",
    "turnover_percentage = []\n",
    "offensive_rebound_percentage = []"
   ]
  },
  {
   "cell_type": "code",
   "execution_count": 4,
   "metadata": {},
   "outputs": [],
   "source": [
    "soup = bs(response.content, 'html.parser')\n",
    "table_lst = soup.select('tbody')[0].select('tr')\n",
    "\n",
    "#Loopthrough Function\n",
    "def loop_through(tag):\n",
    "    return tag.get_text().replace('\\xa0NCAA', '').strip()\n",
    "\n",
    "Dict = {}\n",
    "\n",
    "#for team in table_lst_2023:\n",
    "for teams in table_lst:\n",
    "    team = list(map(loop_through, teams))\n",
    "    teamName = team[1]\n",
    "    if teamName != '' and teamName in team_name:\n",
    "        Srs = float(team[6])\n",
    "        Sos = float(team[7])\n",
    "        Pace = float(team[21])\n",
    "        ORtg = float(team[22])\n",
    "        Ftr = float(team[23])\n",
    "        PAr3 = float(team[24])\n",
    "        Ts = float(team[25])\n",
    "        Trb = float(team[26])\n",
    "        Ast = float(team[27])\n",
    "        Stl = float(team[28])\n",
    "        Blk = float(team[29])\n",
    "        eFG = float(team[30])\n",
    "        Tov = float(team[31])\n",
    "        Orb = float(team[32])\n",
    "        Dict[teamName] = [Srs, Sos, Pace, ORtg, Ftr, PAr3, Ts, Trb, Ast, Stl, Blk, eFG, Tov, Orb]\n",
    "\n",
    "#print((Dict_2022.keys()))\n",
    "for name in team_name:\n",
    "    if name not in Dict.keys():\n",
    "        print(name)"
   ]
  },
  {
   "cell_type": "code",
   "execution_count": 5,
   "metadata": {},
   "outputs": [],
   "source": [
    "for teamName in team_name:\n",
    "    data = Dict[teamName]\n",
    "    simple_rating_system.append(data[0])\n",
    "    strength_of_schedule.append(data[1])\n",
    "    pace_factor.append(data[2])\n",
    "    offensive_rating.append(data[3])\n",
    "    free_throw_attempt_rate.append(data[4])\n",
    "    three_point_attempt_rate.append(data[5])\n",
    "    true_shooting_percentage.append(data[6])\n",
    "    total_rebound_percentage.append(data[7])\n",
    "    assist_percentage.append(data[8])\n",
    "    steal_percentage.append(data[9])\n",
    "    block_percentage.append(data[10])\n",
    "    effective_field_goal_percentage.append(data[11])\n",
    "    turnover_percentage.append(data[12])\n",
    "    offensive_rebound_percentage.append(data[13])"
   ]
  },
  {
   "cell_type": "code",
   "execution_count": 6,
   "metadata": {},
   "outputs": [],
   "source": [
    "#Pandas Dataframe for 2019\n",
    "data_2019 = {\n",
    "    \"team_name\" : team_name,\n",
    "    \"year\" : [2019] * 64,\n",
    "    \"tournament_success\" : tournament_success,\n",
    "    \"simple_rating_system\" : simple_rating_system,\n",
    "    \"strength_of_schedule\" : strength_of_schedule,\n",
    "    \"pace_factor\" : pace_factor,\n",
    "    \"offensive_rating\" : offensive_rating,\n",
    "    \"free_throw_attempt_rate\" : free_throw_attempt_rate,\n",
    "    \"three_point_attempt_rate\" : three_point_attempt_rate,\n",
    "    \"true_shooting_percentage\" : true_shooting_percentage,\n",
    "    \"total_rebound_percentage\" : total_rebound_percentage,\n",
    "    \"assist_percentage\" : assist_percentage,\n",
    "    \"steal_percentage\" : steal_percentage,\n",
    "    \"block_percentage\" : block_percentage,\n",
    "    \"effective_field_goal_percentage\" : effective_field_goal_percentage,\n",
    "    \"turnover_percentage\" : turnover_percentage,\n",
    "    \"offensive_rebound_percentage\" : offensive_rebound_percentage  \n",
    "}\n",
    "\n",
    "df_2019 = pd.DataFrame(data=data_2019)\n",
    "df_2019.to_csv(\"df_2019.csv\")"
   ]
  }
 ],
 "metadata": {
  "kernelspec": {
   "display_name": "Python 3",
   "language": "python",
   "name": "python3"
  },
  "language_info": {
   "codemirror_mode": {
    "name": "ipython",
    "version": 3
   },
   "file_extension": ".py",
   "mimetype": "text/x-python",
   "name": "python",
   "nbconvert_exporter": "python",
   "pygments_lexer": "ipython3",
   "version": "3.11.0"
  },
  "orig_nbformat": 4
 },
 "nbformat": 4,
 "nbformat_minor": 2
}
