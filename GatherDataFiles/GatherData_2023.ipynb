{
 "cells": [
  {
   "cell_type": "code",
   "execution_count": 1,
   "metadata": {},
   "outputs": [],
   "source": [
    "import requests\n",
    "from bs4 import BeautifulSoup as bs\n",
    "import csv\n",
    "import pandas as pd"
   ]
  },
  {
   "cell_type": "code",
   "execution_count": 3,
   "metadata": {},
   "outputs": [],
   "source": [
    "#Base URL for all data\n",
    "base_url = \"https://www.sports-reference.com/cbb/\"\n",
    "#Data from all years\n",
    "years = [\"2014\", \"2015\", \"2016\", \"2017\", \"2018\", \"2019\", \"2021\", \"2022\", \"2023\"]\n",
    "#Create add_on based on the year\n",
    "add_on = \"seasons/men/\"+\"2023\"+\"-advanced-school-stats.html\"\n",
    "\n",
    "#Example data extraction with year 2023\n",
    "response = requests.get(base_url + add_on)"
   ]
  },
  {
   "cell_type": "code",
   "execution_count": 4,
   "metadata": {},
   "outputs": [],
   "source": [
    "#Gathering Data from the 2023 CSV file\n",
    "team_name_2023 = []\n",
    "tournament_success_2023 = []\n",
    "\n",
    "with open('Tournament_Results/2023_Tournament.csv', 'r') as csv_file_2023:\n",
    "    csv_reader = csv.reader(csv_file_2023)\n",
    "    for row in csv_reader:\n",
    "        team_name_2023.append(row[0])\n",
    "        tournament_success_2023.append(int(row[1]))\n",
    "\n",
    "\n",
    "simple_rating_system_2023 = []\n",
    "strength_of_schedule_2023 = []\n",
    "pace_factor_2023 = []\n",
    "offensive_rating_2023 = []\n",
    "free_throw_attempt_rate_2023 = []\n",
    "three_point_attempt_rate_2023 = []\n",
    "true_shooting_percentage_2023 = []\n",
    "total_rebound_percentage_2023 = []\n",
    "assist_percentage_2023 = []\n",
    "steal_percentage_2023 = []\n",
    "block_percentage_2023 = []\n",
    "effective_field_goal_percentage_2023 = []\n",
    "turnover_percentage_2023 = []\n",
    "offensive_rebound_percentage_2023 = []\n",
    "\n",
    "\n",
    "\n"
   ]
  },
  {
   "cell_type": "code",
   "execution_count": 5,
   "metadata": {},
   "outputs": [
    {
     "name": "stdout",
     "output_type": "stream",
     "text": [
      "64\n"
     ]
    }
   ],
   "source": [
    "#Webscraping using BeautifulSoup Object\n",
    "soup_2023 = bs(response.content, 'html.parser')\n",
    "table_lst_2023 = soup_2023.select('tbody')[0].select('tr')\n",
    "\n",
    "#Loopthrough Function\n",
    "def loop_through(tag):\n",
    "    return tag.get_text().replace('\\xa0NCAA', '').strip()\n",
    "\n",
    "Dict_2023 = {}\n",
    "\n",
    "#for team in table_lst_2023:\n",
    "for teams in table_lst_2023:\n",
    "    team = list(map(loop_through, teams))\n",
    "    team_name = team[1]\n",
    "    if team_name in team_name_2023:\n",
    "        Srs = float(team[6])\n",
    "        Sos = float(team[7])\n",
    "        Pace = float(team[21])\n",
    "        ORtg = float(team[22])\n",
    "        Ftr = float(team[23])\n",
    "        PAr3 = float(team[24])\n",
    "        Ts = float(team[25])\n",
    "        Trb = float(team[26])\n",
    "        Ast = float(team[27])\n",
    "        Stl = float(team[28])\n",
    "        Blk = float(team[29])\n",
    "        eFG = float(team[30])\n",
    "        Tov = float(team[31])\n",
    "        Orb = float(team[32])\n",
    "        Dict_2023[team_name] = [Srs, Sos, Pace, ORtg, Ftr, PAr3, Ts, Trb, Ast, Stl, Blk, eFG, Tov, Orb]\n",
    "\n",
    "print(len(Dict_2023.keys()))\n"
   ]
  },
  {
   "cell_type": "code",
   "execution_count": 6,
   "metadata": {},
   "outputs": [],
   "source": [
    "for team_name in team_name_2023:\n",
    "    data = Dict_2023[team_name]\n",
    "    simple_rating_system_2023.append(data[0])\n",
    "    strength_of_schedule_2023.append(data[1])\n",
    "    pace_factor_2023.append(data[2])\n",
    "    offensive_rating_2023.append(data[3])\n",
    "    free_throw_attempt_rate_2023.append(data[4])\n",
    "    three_point_attempt_rate_2023.append(data[5])\n",
    "    true_shooting_percentage_2023.append(data[6])\n",
    "    total_rebound_percentage_2023.append(data[7])\n",
    "    assist_percentage_2023.append(data[8])\n",
    "    steal_percentage_2023.append(data[9])\n",
    "    block_percentage_2023.append(data[10])\n",
    "    effective_field_goal_percentage_2023.append(data[11])\n",
    "    turnover_percentage_2023.append(data[12])\n",
    "    offensive_rebound_percentage_2023.append(data[13])"
   ]
  },
  {
   "cell_type": "code",
   "execution_count": 7,
   "metadata": {},
   "outputs": [],
   "source": [
    "#Pandas Dataframe for 2023\n",
    "data_2023 = {\n",
    "    \"team_name\" : team_name_2023,\n",
    "    \"year\" : [2023] * 64,\n",
    "    \"tournament_success\" : tournament_success_2023,\n",
    "    \"simple_rating_system\" : simple_rating_system_2023,\n",
    "    \"strength_of_schedule\" : strength_of_schedule_2023,\n",
    "    \"pace_factor\" : pace_factor_2023,\n",
    "    \"offensive_rating\" : offensive_rating_2023,\n",
    "    \"free_throw_attempt_rate\" : free_throw_attempt_rate_2023,\n",
    "    \"three_point_attempt_rate\" : three_point_attempt_rate_2023,\n",
    "    \"true_shooting_percentage\" : true_shooting_percentage_2023,\n",
    "    \"total_rebound_percentage\" : total_rebound_percentage_2023,\n",
    "    \"assist_percentage\" : assist_percentage_2023,\n",
    "    \"steal_percentage\" : steal_percentage_2023,\n",
    "    \"block_percentage\" : block_percentage_2023,\n",
    "    \"effective_field_goal_percentage\" : effective_field_goal_percentage_2023,\n",
    "    \"turnover_percentage\" : turnover_percentage_2023,\n",
    "    \"offensive_rebound_percentage\" : offensive_rebound_percentage_2023  \n",
    "}\n",
    "\n",
    "df_2023 = pd.DataFrame(data=data_2023)\n",
    "df_2023.to_csv(\"df_2023.csv\")\n"
   ]
  }
 ],
 "metadata": {
  "kernelspec": {
   "display_name": "Python 3",
   "language": "python",
   "name": "python3"
  },
  "language_info": {
   "codemirror_mode": {
    "name": "ipython",
    "version": 3
   },
   "file_extension": ".py",
   "mimetype": "text/x-python",
   "name": "python",
   "nbconvert_exporter": "python",
   "pygments_lexer": "ipython3",
   "version": "3.11.0"
  },
  "orig_nbformat": 4
 },
 "nbformat": 4,
 "nbformat_minor": 2
}
